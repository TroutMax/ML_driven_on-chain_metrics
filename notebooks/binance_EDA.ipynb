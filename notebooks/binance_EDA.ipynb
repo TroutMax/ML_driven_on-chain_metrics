{
 "cells": [
  {
   "cell_type": "markdown",
   "id": "9d53f9ce",
   "metadata": {},
   "source": [
    "# Binance API Exploration\n",
    "\n",
    "This notebook is dedicated to exploring the Binance API and its functionalities. It allows users to interact with the API and analyze the data it provides. Going to use binance for long-term data quality. "
   ]
  },
  {
   "cell_type": "code",
   "execution_count": 5,
   "id": "0d2a9769",
   "metadata": {},
   "outputs": [
    {
     "name": "stderr",
     "output_type": "stream",
     "text": [
      "2025-09-11 18:20:06,311 INFO DuneProvider Fetching fresh data for query 5745512\n"
     ]
    },
    {
     "name": "stdout",
     "output_type": "stream",
     "text": [
      "Added to Python path: /Users/Max/Code/Github/ML_driven_on-chain_metrics\n",
      "Current working directory: /Users/Max/Code/Github/ML_driven_on-chain_metrics/notebooks\n",
      "✅ Dune provider initialized\n",
      "✅ Hyperliquid provider initialized\n",
      "✅ Binance provider initialized\n",
      "Connection Status:\n"
     ]
    },
    {
     "name": "stderr",
     "output_type": "stream",
     "text": [
      "2025-09-11 18:20:07,517 INFO DuneProvider Fetching fresh data for query 5745512\n"
     ]
    },
    {
     "name": "stdout",
     "output_type": "stream",
     "text": [
      "  dune: ✅ Connected\n",
      "  hyperliquid: ✅ Connected\n",
      "  binance: ✅ Connected\n",
      "🚀 Setting up data providers...\n",
      "✅ Dune provider initialized\n",
      "✅ Hyperliquid provider initialized\n",
      "✅ Binance provider initialized\n",
      "📊 Active providers: ['dune', 'hyperliquid', 'binance']\n"
     ]
    },
    {
     "name": "stderr",
     "output_type": "stream",
     "text": [
      "2025-09-11 18:20:08,584 INFO DuneProvider Using cached data for query 5745512\n",
      "2025-09-11 18:20:08,585 INFO HyperliquidProvider Using lookback: 24 hours\n",
      "2025-09-11 18:20:08,590 INFO HyperliquidProvider Fetching ETH market data: 1h interval, 24.0h period\n"
     ]
    },
    {
     "name": "stdout",
     "output_type": "stream",
     "text": [
      "   Dune: ✅ Connected\n",
      "   Hyperliquid: ✅ Connected\n",
      "   Binance: ✅ Connected\n",
      "\n",
      "📈 Fetching Dune data...\n",
      "   Got 4591 rows of bot volume data\n",
      "\n",
      "🔥 Fetching Hyperliquid data...\n"
     ]
    },
    {
     "name": "stderr",
     "output_type": "stream",
     "text": [
      "2025-09-11 18:20:08,962 INFO HyperliquidProvider Retrieved 25 candles for ETH (1h)\n",
      "2025-09-11 18:20:08,970 INFO DuneProvider Fetching fresh data for query 5745512\n"
     ]
    },
    {
     "name": "stdout",
     "output_type": "stream",
     "text": [
      "   Got 25 rows of ETH market data\n",
      "\n",
      "💰 Fetching Binance data...\n",
      "   Error: BinanceProvider.get_market_data() takes 2 positional arguments but 3 were given\n",
      "\n",
      "==================================================\n",
      "MANUAL TESTING\n",
      "==================================================\n",
      "✅ Dune provider initialized\n",
      "✅ Hyperliquid provider initialized\n",
      "✅ Binance provider initialized\n",
      "\n",
      "🔍 Testing DUNE:\n",
      "   Connection: ✅ OK\n",
      "   Dune provider ready (requires API key)\n",
      "\n",
      "🔍 Testing HYPERLIQUID:\n",
      "   Connection: ✅ OK\n",
      "   Available symbols: 206 found\n",
      "\n",
      "🔍 Testing BINANCE:\n"
     ]
    },
    {
     "name": "stderr",
     "output_type": "stream",
     "text": [
      "2025-09-11 18:20:10,595 INFO BinanceProvider Fetching spot data for BTCUSDT (1d)\n"
     ]
    },
    {
     "name": "stdout",
     "output_type": "stream",
     "text": [
      "   Connection: ✅ OK\n"
     ]
    },
    {
     "name": "stderr",
     "output_type": "stream",
     "text": [
      "2025-09-11 18:20:10,856 INFO BinanceProvider Retrieved 5 candles for BTCUSDT\n"
     ]
    },
    {
     "name": "stdout",
     "output_type": "stream",
     "text": [
      "   Sample data: 5 rows\n",
      "   Columns: ['datetime', 'open', 'high', 'low', 'close', 'volume', 'symbol', 'interval', 'market_type', 'trades_count']\n",
      "\n",
      "✅ Factory integration test complete!\n"
     ]
    }
   ],
   "source": [
    "import sys\n",
    "import os\n",
    "import pandas as pd\n",
    "from datetime import datetime\n",
    "\n",
    "# Add project root to Python path\n",
    "project_root = os.path.abspath('..')  # Go up one level from notebooks/\n",
    "sys.path.insert(0, project_root)\n",
    "\n",
    "print(f\"Added to Python path: {project_root}\")\n",
    "print(f\"Current working directory: {os.getcwd()}\")\n",
    "\n",
    "from src.data_providers.factory import setup_providers, demo_usage\n",
    "from datetime import datetime\n",
    "\n",
    "# Setup providers\n",
    "manager = setup_providers()\n",
    "\n",
    "# Test connections\n",
    "print(\"Connection Status:\")\n",
    "for provider, status in manager.test_all_connections().items():\n",
    "    print(f\"  {provider}: {'✅ Connected' if status else '❌ Failed'}\")\n",
    "\n",
    "\n",
    "# Method 1: Quick demo\n",
    "manager = demo_usage()\n",
    "\n",
    "# Method 2: Manual setup and testing\n",
    "print(\"\\n\" + \"=\"*50)\n",
    "print(\"MANUAL TESTING\")\n",
    "print(\"=\"*50)\n",
    "\n",
    "manager = setup_providers()\n",
    "\n",
    "# Test each provider individually\n",
    "providers_to_test = ['dune', 'hyperliquid', 'binance']\n",
    "\n",
    "for provider_name in providers_to_test:\n",
    "    print(f\"\\n🔍 Testing {provider_name.upper()}:\")\n",
    "    \n",
    "    provider = manager.get_provider(provider_name)\n",
    "    if provider:\n",
    "        # Test connection\n",
    "        connected = provider.validate_connection()\n",
    "        print(f\"   Connection: {'✅ OK' if connected else '❌ Failed'}\")\n",
    "        \n",
    "        # Test data fetching\n",
    "        if connected:\n",
    "            try:\n",
    "                if provider_name == 'binance':\n",
    "                    data = provider.get_market_data('BTCUSDT', interval='1d', limit=5)\n",
    "                    print(f\"   Sample data: {len(data)} rows\")\n",
    "                    if not data.empty:\n",
    "                        print(f\"   Columns: {data.columns.tolist()}\")\n",
    "                        \n",
    "                elif provider_name == 'hyperliquid':\n",
    "                    symbols = provider.get_available_symbols()\n",
    "                    print(f\"   Available symbols: {len(symbols)} found\")\n",
    "                    \n",
    "                elif provider_name == 'dune':\n",
    "                    # Test basic query if API key available\n",
    "                    print(f\"   Dune provider ready (requires API key)\")\n",
    "                    \n",
    "            except Exception as e:\n",
    "                print(f\"   ❌ Data test failed: {e}\")\n",
    "    else:\n",
    "        print(f\"   ❌ Provider not initialized\")\n",
    "\n",
    "print(f\"\\n✅ Factory integration test complete!\")"
   ]
  }
 ],
 "metadata": {
  "kernelspec": {
   "display_name": "crypto_finance",
   "language": "python",
   "name": "python3"
  },
  "language_info": {
   "codemirror_mode": {
    "name": "ipython",
    "version": 3
   },
   "file_extension": ".py",
   "mimetype": "text/x-python",
   "name": "python",
   "nbconvert_exporter": "python",
   "pygments_lexer": "ipython3",
   "version": "3.13.5"
  }
 },
 "nbformat": 4,
 "nbformat_minor": 5
}
