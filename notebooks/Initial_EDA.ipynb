{
 "cells": [
  {
   "cell_type": "markdown",
   "id": "e6db24ba",
   "metadata": {},
   "source": [
    "Some basic structure below to get started."
   ]
  },
  {
   "cell_type": "markdown",
   "id": "ba2bb693",
   "metadata": {},
   "source": [
    "Fetching on-chain Data from Dune API"
   ]
  },
  {
   "cell_type": "code",
   "execution_count": null,
   "id": "0b214a51",
   "metadata": {},
   "outputs": [],
   "source": [
    "import requests\n",
    "\n",
    "API_KEY = 'your_dune_api_key'\n",
    "QUERY_ID = 12345  # Replace with your query ID\n",
    "\n",
    "def fetch_dune_results(query_id):\n",
    "    url = f'https://api.dune.com/api/v1/query/{query_id}/results'\n",
    "    headers = {'x-dune-api-key': API_KEY}\n",
    "    response = requests.get(url, headers=headers)\n",
    "    response.raise_for_status()\n",
    "    return response.json()['data']['result']['rows']\n",
    "\n",
    "data = fetch_dune_results(QUERY_ID)\n",
    "print(data)\n"
   ]
  },
  {
   "cell_type": "markdown",
   "id": "f4861752",
   "metadata": {},
   "source": [
    "Simple Sentiment Analysis Using Vader for Tweets"
   ]
  },
  {
   "cell_type": "code",
   "execution_count": null,
   "id": "7c17dd09",
   "metadata": {},
   "outputs": [],
   "source": [
    "from vaderSentiment.vaderSentiment import SentimentIntensityAnalyzer\n",
    "\n",
    "analyzer = SentimentIntensityAnalyzer()\n",
    "\n",
    "def analyze_sentiment(text):\n",
    "    scores = analyzer.polarity_scores(text)\n",
    "    return scores['compound']\n",
    "\n",
    "sample_tweet = \"Bitcoin is going to the moon!\"\n",
    "print(f\"Sentiment score: {analyze_sentiment(sample_tweet)}\")\n"
   ]
  },
  {
   "cell_type": "markdown",
   "id": "995bfa20",
   "metadata": {},
   "source": [
    "Training a Random Forest Classifier on Features"
   ]
  },
  {
   "cell_type": "code",
   "execution_count": null,
   "id": "32b309eb",
   "metadata": {},
   "outputs": [],
   "source": [
    "import pandas as pd\n",
    "from sklearn.ensemble import RandomForestClassifier\n",
    "from sklearn.model_selection import TimeSeriesSplit\n",
    "from sklearn.metrics import classification_report\n",
    "\n",
    "# Assuming df_features with feature columns and 'target' label\n",
    "X = df_features.drop('target', axis=1)\n",
    "y = df_features['target']\n",
    "\n",
    "tscv = TimeSeriesSplit(n_splits=5)\n",
    "model = RandomForestClassifier(n_estimators=100)\n",
    "\n",
    "for train_idx, test_idx in tscv.split(X):\n",
    "    X_train, X_test = X.iloc[train_idx], X.iloc[test_idx]\n",
    "    y_train, y_test = y.iloc[train_idx], y.iloc[test_idx]\n",
    "\n",
    "    model.fit(X_train, y_train)\n",
    "    y_pred = model.predict(X_test)\n",
    "    print(classification_report(y_test, y_pred))\n"
   ]
  }
 ],
 "metadata": {
  "kernelspec": {
   "display_name": "crypto_finance",
   "language": "python",
   "name": "python3"
  },
  "language_info": {
   "name": "python",
   "version": "3.13.5"
  }
 },
 "nbformat": 4,
 "nbformat_minor": 5
}
