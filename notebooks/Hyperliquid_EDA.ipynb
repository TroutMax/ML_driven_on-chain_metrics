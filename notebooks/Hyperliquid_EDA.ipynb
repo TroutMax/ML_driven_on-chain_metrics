{
 "cells": [
  {
   "cell_type": "markdown",
   "id": "5e8ebe7d",
   "metadata": {},
   "source": [
    "# Hyperliquid API Exploration\n",
    "\n",
    "This notebook is dedicated to exploring the Hyperliquid API and its functionalities. It allows users to interact with the API and analyze the data it provides."
   ]
  },
  {
   "cell_type": "code",
   "execution_count": null,
   "id": "656ffee0",
   "metadata": {},
   "outputs": [],
   "source": [
    "# Import necessary libraries\n",
    "import requests\n",
    "import pandas as pd\n",
    "import os\n",
    "from dotenv import load_dotenv\n",
    "\n",
    "# Load environment variables from .env file\n",
    "load_dotenv('../.env')\n",
    "\n",
    "# Set up Hyperliquid API endpoint\n",
    "HYPERLIQUID_API_URL = 'https://api.hyperliquid.com/'  # Replace with actual API endpoint\n",
    "\n",
    "# Function to fetch data from Hyperliquid API\n",
    "def fetch_hyperliquid_data(endpoint):\n",
    "    url = os.path.join(HYPERLIQUID_API_URL, endpoint)\n",
    "    response = requests.get(url)\n",
    "    if response.status_code == 200:\n",
    "        return response.json()\n",
    "    else:\n",
    "        raise Exception(f'Error fetching data: {response.status_code} - {response.text}')\n",
    "\n",
    "# Example usage: Fetching market data\n",
    "try:\n",
    "    market_data = fetch_hyperliquid_data('markets')  # Replace with actual endpoint\n",
    "    print(market_data)\n",
    "except Exception as e:\n",
    "    print(e)"
   ]
  },
  {
   "cell_type": "markdown",
   "id": "9e9cfaff",
   "metadata": {},
   "source": [
    "## Data Exploration\n",
    "\n",
    "Once the data is fetched, we can explore its structure and contents."
   ]
  },
  {
   "cell_type": "markdown",
   "id": "b3dcb3e8",
   "metadata": {},
   "source": []
  },
  {
   "cell_type": "markdown",
   "id": "17c50270",
   "metadata": {},
   "source": [
    "## Further Analysis\n",
    "\n",
    "You can add additional cells here to perform further analysis on the fetched data, such as visualizations or statistical summaries."
   ]
  }
 ],
 "metadata": {
  "kernelspec": {
   "display_name": "crypto_finance",
   "language": "python",
   "name": "python3"
  },
  "language_info": {
   "name": "python",
   "version": "3.13.5"
  }
 },
 "nbformat": 4,
 "nbformat_minor": 5
}
