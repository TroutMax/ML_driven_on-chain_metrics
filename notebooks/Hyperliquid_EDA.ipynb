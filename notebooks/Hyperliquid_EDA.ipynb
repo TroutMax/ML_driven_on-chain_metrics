{
 "cells": [
  {
   "cell_type": "markdown",
   "id": "5e8ebe7d",
   "metadata": {},
   "source": [
    "# Hyperliquid API Exploration\n",
    "\n",
    "This notebook is dedicated to exploring the Hyperliquid API and its functionalities. It allows users to interact with the API and analyze the data it provides. Different to Dune in that its based on RESTAPI."
   ]
  },
  {
   "cell_type": "code",
   "execution_count": 23,
   "id": "656ffee0",
   "metadata": {},
   "outputs": [
    {
     "name": "stderr",
     "output_type": "stream",
     "text": [
      "2025-09-10 21:31:06,522 INFO DuneProvider Fetching fresh data for query 5745512\n"
     ]
    },
    {
     "name": "stdout",
     "output_type": "stream",
     "text": [
      "Added to Python path: /Users/Max/Code/Github/ML_driven_on-chain_metrics\n",
      "Current working directory: /Users/Max/Code/Github/ML_driven_on-chain_metrics/notebooks\n",
      "✅ Dune provider initialized\n",
      "✅ Hyperliquid provider initialized\n",
      "Connection Status:\n",
      "  dune: ✅ Connected\n",
      "  hyperliquid: ✅ Connected\n",
      "\n",
      "🚀 Testing Hyperliquid API endpoints:\n",
      "📊 Available symbols: ['BTC', 'ETH', 'ATOM', 'MATIC', 'DYDX', 'SOL', 'AVAX', 'BNB', 'APE', 'OP']...\n",
      "\n",
      "💰 Current mid prices:\n",
      "  symbol  mid_price                  timestamp\n",
      "0     @1  18.609000 2025-09-10 21:31:07.795908\n",
      "1    @10   0.000134 2025-09-10 21:31:07.795948\n",
      "2   @100   0.003523 2025-09-10 21:31:07.795957\n",
      "3   @101   0.309430 2025-09-10 21:31:07.796186\n",
      "4   @102   0.018979 2025-09-10 21:31:07.796194\n"
     ]
    },
    {
     "name": "stderr",
     "output_type": "stream",
     "text": [
      "2025-09-10 21:31:08,420 ERROR HyperliquidProvider Failed to get market data for ETH: Length mismatch: Expected axis has 10 elements, new values have 6 elements\n"
     ]
    },
    {
     "name": "stdout",
     "output_type": "stream",
     "text": [
      "\n",
      "📈 ETH OHLCV data (last 48h):\n",
      "Shape: (0, 0)\n",
      "Empty DataFrame\n",
      "Columns: []\n",
      "Index: []\n",
      "\n",
      "💸 Funding rates:\n",
      "    symbol  funding_rate                  timestamp\n",
      "0  unknown  1.250000e-05 2025-09-10 21:31:09.368454\n",
      "1  unknown  1.250000e-05 2025-09-10 21:31:09.368483\n",
      "2  unknown  1.250000e-05 2025-09-10 21:31:09.368487\n",
      "3  unknown  0.000000e+00 2025-09-10 21:31:09.368489\n",
      "4  unknown  4.937000e-07 2025-09-10 21:31:09.368490\n"
     ]
    }
   ],
   "source": [
    "import sys\n",
    "import os\n",
    "import pandas as pd\n",
    "from datetime import datetime\n",
    "\n",
    "# Add project root to Python path\n",
    "project_root = os.path.abspath('..')  # Go up one level from notebooks/\n",
    "sys.path.insert(0, project_root)\n",
    "\n",
    "print(f\"Added to Python path: {project_root}\")\n",
    "print(f\"Current working directory: {os.getcwd()}\")\n",
    "\n",
    "from src.data_providers.factory import setup_providers\n",
    "from datetime import datetime\n",
    "\n",
    "# Setup providers\n",
    "manager = setup_providers()\n",
    "\n",
    "# Test connections\n",
    "print(\"Connection Status:\")\n",
    "for provider, status in manager.test_all_connections().items():\n",
    "    print(f\"  {provider}: {'✅ Connected' if status else '❌ Failed'}\")\n",
    "\n",
    "# Get Hyperliquid provider from the manager\n",
    "hl = manager.get_provider('hyperliquid')\n",
    "\n",
    "if hl:\n",
    "    print(\"\\n🚀 Testing Hyperliquid API endpoints:\")\n",
    "    \n",
    "    # 1. Get available symbols\n",
    "    symbols = hl.get_available_symbols()\n",
    "    print(f\"📊 Available symbols: {symbols[:10]}...\")  # Show first 10\n",
    "    \n",
    "    # 2. Get current mid prices\n",
    "    mids = hl.get_all_mids()\n",
    "    print(f\"\\n💰 Current mid prices:\")\n",
    "    print(mids.head())\n",
    "    \n",
    "    # 3. Get market data for ETH\n",
    "    eth_data = hl.get_market_data('ETH', interval='1h', lookback_hours=48)\n",
    "    print(f\"\\n📈 ETH OHLCV data (last 48h):\")\n",
    "    print(f\"Shape: {eth_data.shape}\")\n",
    "    print(eth_data.tail())\n",
    "    \n",
    "    # 4. Get funding rates\n",
    "    funding = hl.get_funding_rates()\n",
    "    print(f\"\\n💸 Funding rates:\")\n",
    "    print(funding.head())\n",
    "    \n",
    "    # 5. Save data for analysis\n",
    "    if not eth_data.empty:\n",
    "        data_dir = os.path.join(project_root, 'data', 'raw', 'hyperliquid')\n",
    "        os.makedirs(data_dir, exist_ok=True)\n",
    "        \n",
    "        timestamp = datetime.now().strftime('%Y%m%d_%H%M%S')\n",
    "        file_path = os.path.join(data_dir, f'eth_ohlcv_{timestamp}.parquet')\n",
    "        \n",
    "        eth_data.to_parquet(file_path)\n",
    "        print(f\"\\n✅ Data saved: {file_path}\")\n",
    "\n",
    "else:\n",
    "    print(\"❌ Hyperliquid provider not available\")"
   ]
  },
  {
   "cell_type": "markdown",
   "id": "9e9cfaff",
   "metadata": {},
   "source": [
    "## Data Exploration\n",
    "\n",
    "Once the data is fetched, we can explore its structure and contents."
   ]
  },
  {
   "cell_type": "code",
   "execution_count": 26,
   "id": "b3dcb3e8",
   "metadata": {},
   "outputs": [
    {
     "name": "stdout",
     "output_type": "stream",
     "text": [
      "✅ Dune provider initialized\n",
      "✅ Hyperliquid provider initialized\n"
     ]
    },
    {
     "ename": "AttributeError",
     "evalue": "'MultiProviderManager' object has no attribute 'run_comprehensive_analysis'",
     "output_type": "error",
     "traceback": [
      "\u001b[31m---------------------------------------------------------------------------\u001b[39m",
      "\u001b[31mAttributeError\u001b[39m                            Traceback (most recent call last)",
      "\u001b[36mCell\u001b[39m\u001b[36m \u001b[39m\u001b[32mIn[26]\u001b[39m\u001b[32m, line 8\u001b[39m\n\u001b[32m      5\u001b[39m manager = setup_providers()\n\u001b[32m      7\u001b[39m \u001b[38;5;66;03m# Quick comprehensive analysis\u001b[39;00m\n\u001b[32m----> \u001b[39m\u001b[32m8\u001b[39m results = manager.run_comprehensive_analysis(\n\u001b[32m      9\u001b[39m     symbols=[\u001b[33m'\u001b[39m\u001b[33mHYPE\u001b[39m\u001b[33m'\u001b[39m, \u001b[33m'\u001b[39m\u001b[33mETH\u001b[39m\u001b[33m'\u001b[39m, \u001b[33m'\u001b[39m\u001b[33mBTC\u001b[39m\u001b[33m'\u001b[39m],\n\u001b[32m     10\u001b[39m     days_back=\u001b[32m30\u001b[39m,\n\u001b[32m     11\u001b[39m     save_data=\u001b[38;5;28;01mTrue\u001b[39;00m\n\u001b[32m     12\u001b[39m )\n\u001b[32m     14\u001b[39m \u001b[38;5;66;03m# Access individual providers if needed\u001b[39;00m\n\u001b[32m     15\u001b[39m hl = manager.get_provider(\u001b[33m'\u001b[39m\u001b[33mhyperliquid\u001b[39m\u001b[33m'\u001b[39m)\n",
      "\u001b[31mAttributeError\u001b[39m: 'MultiProviderManager' object has no attribute 'run_comprehensive_analysis'"
     ]
    }
   ],
   "source": [
    "# Standard setup for ALL notebooks\n",
    "from src.data_providers.factory import setup_providers\n",
    "\n",
    "# One line setup\n",
    "manager = setup_providers()\n",
    "\n",
    "# Quick comprehensive analysis\n",
    "results = manager.run_comprehensive_analysis(\n",
    "    symbols=['HYPE', 'ETH', 'BTC'],\n",
    "    days_back=30,\n",
    "    save_data=True\n",
    ")\n",
    "\n",
    "# Access individual providers if needed\n",
    "hl = manager.get_provider('hyperliquid')\n",
    "dune = manager.get_provider('dune')"
   ]
  },
  {
   "cell_type": "code",
   "execution_count": null,
   "id": "e13de228",
   "metadata": {},
   "outputs": [
    {
     "name": "stdout",
     "output_type": "stream",
     "text": [
      "🔍 Debugging Provider Instantiation\n",
      "==================================================\n",
      "1️⃣ Factory Provider:\n",
      "   Type: <class 'src.data_providers.hyperliquid.HyperliquidProvider'>\n",
      "   Has validate_connection: True\n",
      "   Has get_market_data: True\n",
      "   Module: src.data_providers.hyperliquid\n"
     ]
    },
    {
     "name": "stderr",
     "output_type": "stream",
     "text": [
      "2025-09-10 21:33:01,472 ERROR HyperliquidProvider Failed to get market data for ETH: Length mismatch: Expected axis has 10 elements, new values have 6 elements\n"
     ]
    },
    {
     "name": "stdout",
     "output_type": "stream",
     "text": [
      "   Test call result: Empty\n",
      "\n",
      "2️⃣ Direct Provider:\n",
      "   Type: <class 'src.data_providers.hyperliquid.HyperliquidProvider'>\n",
      "   Has validate_connection: True\n",
      "   Has get_market_data: True\n",
      "   Module: src.data_providers.hyperliquid\n"
     ]
    },
    {
     "name": "stderr",
     "output_type": "stream",
     "text": [
      "2025-09-10 21:33:01,751 ERROR HyperliquidProvider Failed to get market data for ETH: Length mismatch: Expected axis has 10 elements, new values have 6 elements\n"
     ]
    },
    {
     "name": "stdout",
     "output_type": "stream",
     "text": [
      "   Test call result: Empty\n",
      "\n",
      "3️⃣ Same instance? False\n",
      "Same class? True\n"
     ]
    }
   ],
   "source": []
  },
  {
   "cell_type": "markdown",
   "id": "17c50270",
   "metadata": {},
   "source": [
    "## Further Analysis\n",
    "\n",
    "You can add additional cells here to perform further analysis on the fetched data, such as visualizations or statistical summaries."
   ]
  }
 ],
 "metadata": {
  "kernelspec": {
   "display_name": "crypto_finance",
   "language": "python",
   "name": "python3"
  },
  "language_info": {
   "codemirror_mode": {
    "name": "ipython",
    "version": 3
   },
   "file_extension": ".py",
   "mimetype": "text/x-python",
   "name": "python",
   "nbconvert_exporter": "python",
   "pygments_lexer": "ipython3",
   "version": "3.13.5"
  }
 },
 "nbformat": 4,
 "nbformat_minor": 5
}
